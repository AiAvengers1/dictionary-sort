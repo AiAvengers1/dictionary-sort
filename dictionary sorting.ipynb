{
 "cells": [
  {
   "cell_type": "code",
   "execution_count": 46,
   "id": "34054c50",
   "metadata": {},
   "outputs": [
    {
     "data": {
      "text/plain": [
       "{0: 0, 1: 2, 2: 1, 3: 4, 4: 3, 5: 9, 6: 3}"
      ]
     },
     "execution_count": 46,
     "metadata": {},
     "output_type": "execute_result"
    }
   ],
   "source": [
    "#sorting the dictionary by keys\n",
    "\n",
    "dictionary = {1: 2, 3: 4, 4: 3, 2: 1, 0: 0, 6:3, 5:9}\n",
    "{k: v for k, v in sorted(dictionary.items(), key=lambda item: item[0])}\n"
   ]
  },
  {
   "cell_type": "code",
   "execution_count": null,
   "id": "a4d2fdfc",
   "metadata": {},
   "outputs": [],
   "source": []
  },
  {
   "cell_type": "code",
   "execution_count": null,
   "id": "b9ad1657",
   "metadata": {},
   "outputs": [],
   "source": []
  },
  {
   "cell_type": "code",
   "execution_count": 47,
   "id": "78f0ee2f",
   "metadata": {},
   "outputs": [
    {
     "data": {
      "text/plain": [
       "{0: 0, 2: 1, 1: 2, 4: 3, 6: 3, 3: 4, 5: 9}"
      ]
     },
     "execution_count": 47,
     "metadata": {},
     "output_type": "execute_result"
    }
   ],
   "source": [
    "#sorting the dictionary by values\n",
    "\n",
    "dictionary = {1: 2, 3: 4, 4: 3, 2: 1, 0: 0, 6:3, 5:9}\n",
    "{k: v for k, v in sorted(dictionary.items(), key=lambda item: item[1])}\n",
    "\n"
   ]
  },
  {
   "cell_type": "code",
   "execution_count": null,
   "id": "a6ab8518",
   "metadata": {},
   "outputs": [],
   "source": []
  },
  {
   "cell_type": "code",
   "execution_count": null,
   "id": "39535378",
   "metadata": {},
   "outputs": [],
   "source": []
  }
 ],
 "metadata": {
  "kernelspec": {
   "display_name": "Python 3 (ipykernel)",
   "language": "python",
   "name": "python3"
  },
  "language_info": {
   "codemirror_mode": {
    "name": "ipython",
    "version": 3
   },
   "file_extension": ".py",
   "mimetype": "text/x-python",
   "name": "python",
   "nbconvert_exporter": "python",
   "pygments_lexer": "ipython3",
   "version": "3.11.3"
  }
 },
 "nbformat": 4,
 "nbformat_minor": 5
}
